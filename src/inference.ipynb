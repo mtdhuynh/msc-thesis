{
 "cells": [
  {
   "cell_type": "code",
   "execution_count": null,
   "metadata": {},
   "outputs": [],
   "source": [
    "import matplotlib.pyplot as plt\n",
    "import numpy as np\n",
    "import torch\n",
    "import torchvision\n",
    "\n",
    "from data.dataset_utils import get_dataset, get_transforms"
   ]
  },
  {
   "cell_type": "code",
   "execution_count": null,
   "metadata": {},
   "outputs": [],
   "source": [
    "# Load validation dataset\n",
    "bbox_format = 'pascal_voc'\n",
    "\n",
    "dataset = get_dataset(\n",
    "    'val', \n",
    "    '/home/thuynh/data/04_model_input', \n",
    "    get_transforms('val', params={'transforms': {'resize': 512, 'min_area': 900, 'min_visibility': 0.25}, 'format': bbox_format}, normalize=True),\n",
    "    bbox_format\n",
    ")"
   ]
  },
  {
   "cell_type": "code",
   "execution_count": null,
   "metadata": {},
   "outputs": [],
   "source": [
    "# Dataset specifications\n",
    "ckpt_path = '/home/thuynh/torchvision_tutorial/runs/2022-05-11_18_56_13_2173/model_9.pth'\n",
    "\n",
    "model_name = 'fasterrcnn_mobilenet_v3_large_fpn'\n",
    "\n",
    "kwargs = {\"trainable_backbone_layers\": 5, \"min_size\": 512, \"max_size\": 512, 'image_mean': (0., 0., 0.), 'image_std': (1., 1., 1.), 'box_score_thresh': 0.5}\n",
    "\n",
    "num_classes = 7\n",
    "\n",
    "pretrained = True\n",
    "pretrained_backbone = True"
   ]
  },
  {
   "cell_type": "code",
   "execution_count": null,
   "metadata": {},
   "outputs": [],
   "source": [
    "# Load model\n",
    "if 'rcnn' in model_name:\n",
    "    model = torchvision.models.detection.__dict__[model_name](\n",
    "                pretrained=pretrained, pretrained_backbone=pretrained_backbone, **kwargs\n",
    "            )\n",
    "\n",
    "    in_features = model.roi_heads.box_predictor.cls_score.in_features\n",
    "    model.roi_heads.box_predictor = torchvision.models.detection.faster_rcnn.FastRCNNPredictor(in_features, num_classes)\n",
    "else:\n",
    "    model = torchvision.models.detection.__dict__[model_name](\n",
    "                pretrained=pretrained, pretrained_backbone=pretrained_backbone, num_classes=num_classes, **kwargs\n",
    "            )\n",
    "\n",
    "# Load checkpoint\n",
    "ckpt = torch.load(ckpt_path, map_location='cpu')\n",
    "model.load_state_dict(ckpt['model'])\n",
    "model = model.eval()"
   ]
  },
  {
   "cell_type": "code",
   "execution_count": null,
   "metadata": {},
   "outputs": [],
   "source": [
    "# .visualize() method allows for data visualization. If a model is supplied, it will also plot the predictions over the original images and ground truths (if any)\n",
    "plt.figure(figsize=(30,15))\n",
    "plt.axis('off')\n",
    "plt.imshow(np.array(dataset.visualize(model=model).permute(1,2,0)))\n",
    "plt.show()"
   ]
  }
 ],
 "metadata": {
  "interpreter": {
   "hash": "82f8bbdca075e735cd7b5ecdbbc79d17d3ada3017f7b6c600a315b401a494d2b"
  },
  "kernelspec": {
   "display_name": "Python 3.10.4 ('ms-thesis': conda)",
   "language": "python",
   "name": "python3"
  },
  "language_info": {
   "codemirror_mode": {
    "name": "ipython",
    "version": 3
   },
   "file_extension": ".py",
   "mimetype": "text/x-python",
   "name": "python",
   "nbconvert_exporter": "python",
   "pygments_lexer": "ipython3",
   "version": "3.10.4"
  },
  "vscode": {
   "interpreter": {
    "hash": "f2cf9091d097e7ecca4c42107bf4500547b5f744674b9516c53e9fc56a2d44a4"
   }
  }
 },
 "nbformat": 4,
 "nbformat_minor": 2
}
